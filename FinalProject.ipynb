{
 "cells": [
  {
   "cell_type": "code",
   "execution_count": 4,
   "metadata": {},
   "outputs": [],
   "source": [
    "import pandas as pd\n"
   ]
  },
  {
   "cell_type": "code",
   "execution_count": 5,
   "metadata": {},
   "outputs": [],
   "source": [
    "def delete_columns_from_csv(file_path, columns_to_delete, output_file_path=None):\n",
    "   \n",
    "    df = pd.read_csv(file_path)\n",
    "    \n",
    "    \n",
    "    df.drop(columns=columns_to_delete, inplace=True, errors='ignore')\n",
    "    \n",
    "    \n",
    "    if output_file_path:\n",
    "        df.to_csv(output_file_path, index=False)\n",
    "    \n",
    "    return df\n"
   ]
  },
  {
   "cell_type": "code",
   "execution_count": 7,
   "metadata": {},
   "outputs": [],
   "source": [
    "### Profile \n",
    "file_path_Profile = \"C:\\\\Users\\\\annak\\\\Desktop\\\\ML-Project\\\\company_profiles.csv\"\n",
    "columns_to_delete_Profile = ['description', 'mic_code','website','type','CEO','address','city','phone']\n",
    "output_file_path_profile = 'C:\\\\Users\\\\annak\\\\Desktop\\\\ML-Project\\\\FinalProjetProfile.csv'\n",
    "### Income\n",
    "file_path_Income = \"C:\\\\Users\\\\annak\\\\Desktop\\\\ML-Project\\\\income_statements.csv\"\n",
    "columns_to_delete_Income = ['pretax_income', 'income_tax','ebit']\n",
    "output_file_path_Income = 'C:\\\\Users\\\\annak\\\\Desktop\\\\ML-Project\\\\FinalProjetIncome.csv'\n",
    "\n",
    "### cash flow \n",
    "file_path_Cash_Flow = \"C:\\\\Users\\\\annak\\\\Desktop\\\\ML-Project\\\\cash_flow_data.csv\"\n",
    "columns_to_delete_Cash_Flow = [ 'operating_activities.net_income','operating_activities.depreciation','operating_activities.deferred_taxes','operating_activities.stock_based_compensation','operating_activities.other_non_cash_items','operating_activities.accounts_receivable','operating_activities.accounts_payable','operating_activities.other_assets_liabilities','investing_activities.capital_expenditures','investing_activities.net_intangibles','investing_activities.net_acquisitions','investing_activities.purchase_of_investments','investing_activities.sale_of_investments','investing_activities.other_investing_activity','financing_activities.long_term_debt_issuance','financing_activities.long_term_debt_payments','financing_activities.short_term_debt_issuance','financing_activities.common_stock_issuance','financing_activities.common_stock_repurchase','financing_activities.common_dividends','financing_activities.other_financing_charges','exchange_timezone','period']\n",
    "output_file_path_Cash_Flow = 'C:\\\\Users\\\\annak\\\\Desktop\\\\ML-Project\\\\FinalProjet_CashFlow.csv'\n",
    "\n",
    "### modified csv all \n",
    "\n",
    "modified_df_Profile = delete_columns_from_csv(file_path_Profile, columns_to_delete_Profile, output_file_path_profile)\n",
    "modified_df_Income = delete_columns_from_csv(file_path_Income, columns_to_delete_Income, output_file_path_Income)\n",
    "modified_df_CashFlow = delete_columns_from_csv(file_path_Cash_Flow, columns_to_delete_Cash_Flow, output_file_path_Cash_Flow)\n"
   ]
  },
  {
   "cell_type": "code",
   "execution_count": null,
   "metadata": {},
   "outputs": [],
   "source": []
  },
  {
   "cell_type": "code",
   "execution_count": null,
   "metadata": {},
   "outputs": [],
   "source": []
  }
 ],
 "metadata": {
  "kernelspec": {
   "display_name": "Python 3",
   "language": "python",
   "name": "python3"
  },
  "language_info": {
   "codemirror_mode": {
    "name": "ipython",
    "version": 3
   },
   "file_extension": ".py",
   "mimetype": "text/x-python",
   "name": "python",
   "nbconvert_exporter": "python",
   "pygments_lexer": "ipython3",
   "version": "3.11.4"
  }
 },
 "nbformat": 4,
 "nbformat_minor": 2
}
